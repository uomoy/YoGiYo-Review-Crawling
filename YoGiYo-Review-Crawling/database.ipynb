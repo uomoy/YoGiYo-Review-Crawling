{
 "cells": [
  {
   "cell_type": "code",
   "execution_count": 1,
   "metadata": {},
   "outputs": [
    {
     "name": "stderr",
     "output_type": "stream",
     "text": [
      "C:\\Users\\JHW\\Anaconda3\\lib\\site-packages\\pymysql\\cursors.py:170: Warning: (3719, \"'utf8' is currently an alias for the character set UTF8MB3, but will be an alias for UTF8MB4 in a future release. Please consider using UTF8MB4 in order to be unambiguous.\")\n",
      "  result = self._query(query)\n"
     ]
    }
   ],
   "source": [
    "# CREATE DATABASE review;\n",
    "import pandas as pd\n",
    "import pymysql\n",
    "import csv\n",
    "import os\n",
    "\n",
    "hostName = 'termproject1.ccovdkmpgels.ap-northeast-2.rds.amazonaws.com'\n",
    "userName = 'uomoy'\n",
    "password = '#########'\n",
    "dbName = 'review'\n",
    "\n",
    "db = pymysql.connect(host=hostName, port=3306, user=userName, passwd=password, db=dbName, charset='utf8')\n",
    "cursor = db.cursor()\n",
    "cursor.execute(\"set names utf8\")\n",
    "db.commit()"
   ]
  },
  {
   "cell_type": "code",
   "execution_count": 30,
   "metadata": {},
   "outputs": [],
   "source": [
    "# table restaurants 생성\n",
    "sql = \"\"\"CREATE TABLE restaurants (\n",
    "           id INT UNSIGNED NOT NULL AUTO_INCREMENT,\n",
    "           restaurant VARCHAR(100) NOT NULL,\n",
    "           review_num INT NOT NULL,\n",
    "           PRIMARY KEY(id)\n",
    "    ) DEFAULT CHARSET=utf8;\n",
    "    \"\"\"\n",
    "\n",
    "cursor.execute(sql)\n",
    "\n",
    "path_dir = '../YoGiYo-Review-Crawling/reviews'\n",
    "file_list = os.listdir(path_dir)\n",
    "restaurant_list = []\n",
    "for item in file_list:\n",
    "    restaurant_list.append(item.replace('.csv', ''))\n",
    "len(restaurant_list)\n",
    "\n",
    "try:\n",
    "    for restaurant in restaurant_list:\n",
    "        df = pd.read_csv('../YoGiYo-Review-Crawling/reviews/' + str(restaurant) + '.csv', engine='python')\n",
    "        restaurant_sql = \"INSERT INTO restaurants (restaurant, review_num) VALUES(\\\"\"+str(restaurant)+\"\\\", '\"+str(len(df))+\"');\"\n",
    "        cursor.execute(restaurant_sql)\n",
    "finally:\n",
    "    db.commit()"
   ]
  },
  {
   "cell_type": "code",
   "execution_count": 14,
   "metadata": {
    "scrolled": true
   },
   "outputs": [],
   "source": [
    "# table menus 생성\n",
    "\n",
    "sq = \"\"\"CREATE TABLE menus (\n",
    "           id INT UNSIGNED NOT NULL AUTO_INCREMENT,\n",
    "           restaurant VARCHAR(100) NOT NULL,\n",
    "           menu VARCHAR(200) NOT NULL,\n",
    "           PRIMARY KEY(id)\n",
    "    ) DEFAULT CHARSET=utf8;\n",
    "    \"\"\"\n",
    "cursor.execute(sq)\n",
    "db.commit()\n",
    "\n",
    "path_dir = '../YoGiYo-Review-Crawling/reviews'\n",
    "file_list = os.listdir(path_dir)\n",
    "restaurant_list = []\n",
    "for item in file_list:\n",
    "    restaurant_list.append(item.replace('.csv', ''))\n",
    "\n",
    "try:\n",
    "    for restaurant in restaurant_list:\n",
    "        allMenu = menu_info(review_info(restaurant)[1])[1]\n",
    "        for menu in allMenu:\n",
    "            menu_sql = \"INSERT INTO menus (restaurant, menu) VALUES(\\\"\"+str(restaurant)+\"\\\", \\'\"+str(menu)+\"\\');\"\n",
    "            cursor.execute(menu_sql)\n",
    "finally:\n",
    "    db.commit()"
   ]
  },
  {
   "cell_type": "code",
   "execution_count": 15,
   "metadata": {},
   "outputs": [
    {
     "name": "stdout",
     "output_type": "stream",
     "text": [
      "db1 complete\n",
      "db2 complete\n",
      "db3 complete\n"
     ]
    }
   ],
   "source": [
    "# table db1, db2, db3 생성\n",
    "sql1 = \"\"\"CREATE TABLE menu_analysis (\n",
    "           id INT UNSIGNED NOT NULL AUTO_INCREMENT,\n",
    "           restaurant VARCHAR(100) NOT NULL,\n",
    "           menu VARCHAR(200) NOT NULL,\n",
    "           order_times INT(10) NOT NULL,\n",
    "           average FLOAT(4, 2) NOT NULL,\n",
    "           PRIMARY KEY(id)\n",
    "    ) DEFAULT CHARSET=utf8 COLLATE=utf8_bin;\n",
    "    \"\"\"\n",
    "sql2 = \"\"\"CREATE TABLE menu_img (\n",
    "           id INT UNSIGNED NOT NULL AUTO_INCREMENT,\n",
    "           restaurant VARCHAR(100) NOT NULL,\n",
    "           menu VARCHAR(200) NOT NULL,\n",
    "           img VARCHAR(100) NOT NULL,\n",
    "           PRIMARY KEY(id)\n",
    "    );\n",
    "    \"\"\"\n",
    "sql3 = \"\"\"CREATE TABLE wordclouds (\n",
    "           id INT UNSIGNED NOT NULL AUTO_INCREMENT,\n",
    "           restaurant VARCHAR(100) NOT NULL,\n",
    "           pn VARCHAR(10) NOT NULL,\n",
    "           wordcloud MEDIUMTEXT NOT NULL,\n",
    "           PRIMARY KEY(id)\n",
    "    );\n",
    "    \"\"\"\n",
    "cursor.execute(sql1)\n",
    "cursor.execute(sql2)\n",
    "cursor.execute(sql3)\n",
    "db.commit()\n",
    "\n",
    "db1 = pd.read_csv('../YoGiYo-Review-Crawling/processed-reviews/db1.csv', header=None)    # 메뉴별 리뷰횟수 평균별점\n",
    "db2 = pd.read_csv('../YoGiYo-Review-Crawling/processed-reviews/db2.csv', header=None)     # 메뉴별 이미지\n",
    "db3 = pd.read_excel('../YoGiYo-Review-Crawling/processed-reviews/db3.xlsx', header=None)   # 음식점별 긍부정 키워드 wordcloud\n",
    "try:\n",
    "    for i in range(len(db1)):\n",
    "        db1_sql = \"INSERT INTO menu_analysis (restaurant, menu, order_times, average) VALUES(\\\"\"+str(db1.values[i][0])+\"\\\", \\\"\"+str(db1.values[i][1])+\"\\\", '\"+str(db1.values[i][2])+\"', '\"+str(db1.values[i][3])+\"');\"\n",
    "\n",
    "        cursor.execute(db1_sql)\n",
    "    print('db1 complete')\n",
    "    for j in range(len(db2)):\n",
    "        db2_sql = \"INSERT INTO menu_img (restaurant, menu, img) VALUES(\\\"\"+str(db2.values[j][0])+\"\\\", \\\"\"+str(db2.values[j][1])+\"\\\", '\"+str(db2.values[j][2])+\"');\"\n",
    "        cursor.execute(db2_sql)\n",
    "    print('db2 complete')\n",
    "    for k in range(len(db3)):\n",
    "        db3_sql = \"INSERT INTO wordclouds (restaurant, pn, wordcloud) VALUES(\\\"\"+str(db3.values[k][0])+\"\\\", '\"+str(db3.values[k][1]) + \"', '\" +str(db3.values[k][2])+\"');\"\n",
    "        cursor.execute(db3_sql)\n",
    "    print('db3 complete')\n",
    "finally:\n",
    "    db.commit()"
   ]
  },
  {
   "cell_type": "code",
   "execution_count": 22,
   "metadata": {},
   "outputs": [],
   "source": [
    "# AWS Elastic Beanstalk에서 한글 디렉토리를 읽지 못해 '음식점이름'.png -> '음식점 id'.png 로 바꾸는 과정\n",
    "\n",
    "cursor.execute('select * from restaurants;')\n",
    "db.commit()\n",
    "rest_list = list(cursor.fetchall())\n",
    "pos = os.listdir('../YoGiYo-Review-Crawling/processed-reviews/wordclouds/pos')\n",
    "neg = os.listdir('../YoGiYo-Review-Crawling/processed-reviews/wordclouds/neg')\n",
    "for i in pos:\n",
    "    for j in rest_list:\n",
    "        if j[1] == i.replace('.png', ''):\n",
    "            os.rename('../YoGiYo-Review-Crawling/processed-reviews/wordclouds/pos/'+i, '../YoGiYo-Review-Crawling/processed-reviews/wordclouds/pos/'+str(j[0])+'.png')\n",
    "\n",
    "for i in neg:\n",
    "    for j in rest_list:\n",
    "        if j[1] == i.replace('.png', ''):\n",
    "            os.rename('../YoGiYo-Review-Crawling/processed-reviews/wordclouds/neg/'+i, '../YoGiYo-Review-Crawling/processed-reviews/wordclouds/neg/'+str(j[0])+'.png')"
   ]
  },
  {
   "cell_type": "code",
   "execution_count": 26,
   "metadata": {},
   "outputs": [
    {
     "ename": "Error",
     "evalue": "Already closed",
     "output_type": "error",
     "traceback": [
      "\u001b[1;31m---------------------------------------------------------------------------\u001b[0m",
      "\u001b[1;31mError\u001b[0m                                     Traceback (most recent call last)",
      "\u001b[1;32m<ipython-input-26-168085b004b5>\u001b[0m in \u001b[0;36m<module>\u001b[1;34m\u001b[0m\n\u001b[1;32m----> 1\u001b[1;33m \u001b[0mdb\u001b[0m\u001b[1;33m.\u001b[0m\u001b[0mclose\u001b[0m\u001b[1;33m(\u001b[0m\u001b[1;33m)\u001b[0m\u001b[1;33m\u001b[0m\u001b[1;33m\u001b[0m\u001b[0m\n\u001b[0m",
      "\u001b[1;32m~\\Anaconda3\\lib\\site-packages\\pymysql\\connections.py\u001b[0m in \u001b[0;36mclose\u001b[1;34m(self)\u001b[0m\n\u001b[0;32m    352\u001b[0m         \"\"\"\n\u001b[0;32m    353\u001b[0m         \u001b[1;32mif\u001b[0m \u001b[0mself\u001b[0m\u001b[1;33m.\u001b[0m\u001b[0m_closed\u001b[0m\u001b[1;33m:\u001b[0m\u001b[1;33m\u001b[0m\u001b[1;33m\u001b[0m\u001b[0m\n\u001b[1;32m--> 354\u001b[1;33m             \u001b[1;32mraise\u001b[0m \u001b[0merr\u001b[0m\u001b[1;33m.\u001b[0m\u001b[0mError\u001b[0m\u001b[1;33m(\u001b[0m\u001b[1;34m\"Already closed\"\u001b[0m\u001b[1;33m)\u001b[0m\u001b[1;33m\u001b[0m\u001b[1;33m\u001b[0m\u001b[0m\n\u001b[0m\u001b[0;32m    355\u001b[0m         \u001b[0mself\u001b[0m\u001b[1;33m.\u001b[0m\u001b[0m_closed\u001b[0m \u001b[1;33m=\u001b[0m \u001b[1;32mTrue\u001b[0m\u001b[1;33m\u001b[0m\u001b[1;33m\u001b[0m\u001b[0m\n\u001b[0;32m    356\u001b[0m         \u001b[1;32mif\u001b[0m \u001b[0mself\u001b[0m\u001b[1;33m.\u001b[0m\u001b[0m_sock\u001b[0m \u001b[1;32mis\u001b[0m \u001b[1;32mNone\u001b[0m\u001b[1;33m:\u001b[0m\u001b[1;33m\u001b[0m\u001b[1;33m\u001b[0m\u001b[0m\n",
      "\u001b[1;31mError\u001b[0m: Already closed"
     ]
    }
   ],
   "source": [
    "db.close()"
   ]
  },
  {
   "cell_type": "code",
   "execution_count": 7,
   "metadata": {},
   "outputs": [],
   "source": [
    "## crawling.ipynb 에서 정의한 함수\n",
    "\n",
    "# list of string --> list of list\n",
    "def string_to_list(list_of_string):\n",
    "    a = []\n",
    "    for item in list_of_string:\n",
    "        i = item.replace('[', '').replace(\"]\", \"\")\n",
    "        a.append(i.replace('\"', '').replace(\"'\", \"\").split(','))\n",
    "    for item in a:\n",
    "        if '' in item:\n",
    "            item.remove('')\n",
    "    return a\n",
    "\n",
    "# 리뷰 정보 리스트화\n",
    "def review_info(restaurant_name):\n",
    "    f = open('../YoGiYo-Review-Crawling/reviews/' + str(restaurant_name) + '.csv', 'r', encoding = 'UTF-8')\n",
    "    rdr = csv.reader(f)\n",
    "    l = []\n",
    "    for line in rdr:\n",
    "        l.append(line)\n",
    "    f.close()\n",
    "    star_point = []\n",
    "    b = []\n",
    "    review_text = []\n",
    "    d = []\n",
    "    for i in range(len(l)):\n",
    "        if '[' in l[i][3]:\n",
    "            index = l[i][3].index('[')\n",
    "            l[i][3] = l[i][3][:index]\n",
    "        else:\n",
    "            continue\n",
    "    del l[0]\n",
    "    for item in l:\n",
    "        star_point.append(item[1])\n",
    "        b.append(item[2])\n",
    "        review_text.append(item[3])\n",
    "        d.append(item[4])\n",
    "    order_menu = string_to_list(b)\n",
    "    review_img = string_to_list(d) \n",
    "    return star_point, order_menu, review_text, review_img\n",
    "\n",
    "# 메뉴 정보 리스트화\n",
    "def menu_info(order_menu):\n",
    "    a = []\n",
    "    processed_order_menu = []\n",
    "    all_menu = []\n",
    "    review_num = []\n",
    "    for menu in order_menu:\n",
    "        empty = []\n",
    "        for item in menu:\n",
    "            empty.append(item.strip())\n",
    "        processed_order_menu.append(empty) # order_menu 에서 각 item 양옆의 공백을 제거한 리스트\n",
    "    for menu in processed_order_menu:\n",
    "        for item in menu:\n",
    "            a.append(item)\n",
    "    for item in list(set(a)):\n",
    "        all_menu.append(item.replace(',', '.'))\n",
    "    for item in all_menu:\n",
    "        review_num.append(a.count(item))\n",
    "    \n",
    "    return processed_order_menu, all_menu, review_num"
   ]
  }
 ],
 "metadata": {
  "kernelspec": {
   "display_name": "Python 3 (ipykernel)",
   "language": "python",
   "name": "python3"
  },
  "language_info": {
   "codemirror_mode": {
    "name": "ipython",
    "version": 3
   },
   "file_extension": ".py",
   "mimetype": "text/x-python",
   "name": "python",
   "nbconvert_exporter": "python",
   "pygments_lexer": "ipython3",
   "version": "3.9.7"
  }
 },
 "nbformat": 4,
 "nbformat_minor": 2
}
